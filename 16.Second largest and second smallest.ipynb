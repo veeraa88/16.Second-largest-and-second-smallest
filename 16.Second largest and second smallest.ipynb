{
 "cells": [
  {
   "cell_type": "code",
   "execution_count": null,
   "id": "aae6e312-54a5-4f6a-ac84-3a64344ae8c1",
   "metadata": {},
   "outputs": [],
   "source": []
  },
  {
   "cell_type": "code",
   "execution_count": 37,
   "id": "31facce4-2d22-45cc-9880-98bfd1defbac",
   "metadata": {},
   "outputs": [
    {
     "name": "stdout",
     "output_type": "stream",
     "text": [
      "[1, 2, 3, 54, 65, 76, 89]\n",
      "second largest: 76\n",
      "second smallest: 2\n"
     ]
    }
   ],
   "source": [
    "l=[3,2,65,76,89,76,54,1,2]\n",
    "k=list(set(l))\n",
    "def maxi(k):\n",
    "    for i in range(0,len(k)):\n",
    "        for j in range(i+1,len(k)):\n",
    "            if k[i] >= k[j]:\n",
    "                temp=k[i]\n",
    "                k[i]=k[j]\n",
    "                k[j]=temp\n",
    "    print(k)\n",
    "    \n",
    "maxi(k)\n",
    "print(\"second largest:\",k[-2])\n",
    "print(\"second smallest:\",k[1])"
   ]
  },
  {
   "cell_type": "code",
   "execution_count": null,
   "id": "30ef0f3b-1d59-4ff3-938f-082b92d13d72",
   "metadata": {},
   "outputs": [],
   "source": []
  },
  {
   "cell_type": "code",
   "execution_count": null,
   "id": "d332f138-2023-4747-bcca-77181fb3ca10",
   "metadata": {},
   "outputs": [],
   "source": []
  }
 ],
 "metadata": {
  "kernelspec": {
   "display_name": "Python [conda env:base] *",
   "language": "python",
   "name": "conda-base-py"
  },
  "language_info": {
   "codemirror_mode": {
    "name": "ipython",
    "version": 3
   },
   "file_extension": ".py",
   "mimetype": "text/x-python",
   "name": "python",
   "nbconvert_exporter": "python",
   "pygments_lexer": "ipython3",
   "version": "3.12.7"
  }
 },
 "nbformat": 4,
 "nbformat_minor": 5
}
